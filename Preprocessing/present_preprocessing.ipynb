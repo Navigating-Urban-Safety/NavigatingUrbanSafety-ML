{
 "cells": [
  {
   "cell_type": "markdown",
   "metadata": {},
   "source": [
    "### Preprocessing for the present dataset\n",
    "\n",
    "1. Remove the columns that are not needed for the analysis\n",
    "2. Handling NaN values, either Dropping or standardizing\n",
    "3. Standardize the data types (use StandardScaler from sklearn.preprocessing)\n",
    "4. Drop categories that are not needed for analysis. (we are only focusing on pedestrian and traveler related crimes)\n",
    "5. Handling categorical data (use OneHotEncoder from sklearn.preprocessing)"
   ]
  },
  {
   "cell_type": "code",
   "execution_count": null,
   "metadata": {},
   "outputs": [],
   "source": [
    "import pandas as pd\n",
    "from sklearn.preprocessing import StandardScaler\n",
    "from sklearn.preprocessing import LabelEncoder\n",
    "from sklearn.preprocessing import OneHotEncoder"
   ]
  },
  {
   "cell_type": "code",
   "execution_count": null,
   "metadata": {},
   "outputs": [],
   "source": [
    "df_present = pd.read_csv('../Data/Police_Department_Incident_Reports__2018_to_Present.csv')"
   ]
  }
 ],
 "metadata": {
  "language_info": {
   "name": "python"
  }
 },
 "nbformat": 4,
 "nbformat_minor": 2
}
